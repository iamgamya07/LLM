{
  "cells": [
    {
      "cell_type": "code",
      "source": [
        "# Install required packages\n",
        "!pip install transformers accelerate\n",
        "\n",
        "# Import necessary modules\n",
        "from transformers import pipeline\n",
        "\n",
        "# Load a pre-trained LLM with Natural Language Generation capability\n",
        "qa_pipeline = pipeline(\"text2text-generation\", model=\"google/flan-t5-large\")\n",
        "\n",
        "# Define a function to get an answer from the model\n",
        "def get_answer(question):\n",
        "    result = qa_pipeline(question, max_length=200, do_sample=True)\n",
        "    return result[0]['generated_text']\n",
        "\n",
        "# Example usage\n",
        "question = \"Explain how photosynthesis works in plants?\"\n",
        "answer = get_answer(question)\n",
        "print(\"Answer:\", answer)\n"
      ],
      "metadata": {
        "colab": {
          "base_uri": "https://localhost:8080/"
        },
        "id": "TaDwpsaBAMw7",
        "outputId": "83bea222-846f-40f6-e038-c7110d93414d"
      },
      "execution_count": 4,
      "outputs": [
        {
          "output_type": "stream",
          "name": "stdout",
          "text": [
            "Requirement already satisfied: transformers in /usr/local/lib/python3.11/dist-packages (4.52.4)\n",
            "Requirement already satisfied: accelerate in /usr/local/lib/python3.11/dist-packages (1.7.0)\n",
            "Requirement already satisfied: filelock in /usr/local/lib/python3.11/dist-packages (from transformers) (3.18.0)\n",
            "Requirement already satisfied: huggingface-hub<1.0,>=0.30.0 in /usr/local/lib/python3.11/dist-packages (from transformers) (0.32.4)\n",
            "Requirement already satisfied: numpy>=1.17 in /usr/local/lib/python3.11/dist-packages (from transformers) (2.0.2)\n",
            "Requirement already satisfied: packaging>=20.0 in /usr/local/lib/python3.11/dist-packages (from transformers) (24.2)\n",
            "Requirement already satisfied: pyyaml>=5.1 in /usr/local/lib/python3.11/dist-packages (from transformers) (6.0.2)\n",
            "Requirement already satisfied: regex!=2019.12.17 in /usr/local/lib/python3.11/dist-packages (from transformers) (2024.11.6)\n",
            "Requirement already satisfied: requests in /usr/local/lib/python3.11/dist-packages (from transformers) (2.32.3)\n",
            "Requirement already satisfied: tokenizers<0.22,>=0.21 in /usr/local/lib/python3.11/dist-packages (from transformers) (0.21.1)\n",
            "Requirement already satisfied: safetensors>=0.4.3 in /usr/local/lib/python3.11/dist-packages (from transformers) (0.5.3)\n",
            "Requirement already satisfied: tqdm>=4.27 in /usr/local/lib/python3.11/dist-packages (from transformers) (4.67.1)\n",
            "Requirement already satisfied: psutil in /usr/local/lib/python3.11/dist-packages (from accelerate) (5.9.5)\n",
            "Requirement already satisfied: torch>=2.0.0 in /usr/local/lib/python3.11/dist-packages (from accelerate) (2.6.0+cu124)\n",
            "Requirement already satisfied: fsspec>=2023.5.0 in /usr/local/lib/python3.11/dist-packages (from huggingface-hub<1.0,>=0.30.0->transformers) (2025.3.2)\n",
            "Requirement already satisfied: typing-extensions>=3.7.4.3 in /usr/local/lib/python3.11/dist-packages (from huggingface-hub<1.0,>=0.30.0->transformers) (4.14.0)\n",
            "Requirement already satisfied: hf-xet<2.0.0,>=1.1.2 in /usr/local/lib/python3.11/dist-packages (from huggingface-hub<1.0,>=0.30.0->transformers) (1.1.2)\n",
            "Requirement already satisfied: networkx in /usr/local/lib/python3.11/dist-packages (from torch>=2.0.0->accelerate) (3.5)\n",
            "Requirement already satisfied: jinja2 in /usr/local/lib/python3.11/dist-packages (from torch>=2.0.0->accelerate) (3.1.6)\n",
            "Requirement already satisfied: nvidia-cuda-nvrtc-cu12==12.4.127 in /usr/local/lib/python3.11/dist-packages (from torch>=2.0.0->accelerate) (12.4.127)\n",
            "Requirement already satisfied: nvidia-cuda-runtime-cu12==12.4.127 in /usr/local/lib/python3.11/dist-packages (from torch>=2.0.0->accelerate) (12.4.127)\n",
            "Requirement already satisfied: nvidia-cuda-cupti-cu12==12.4.127 in /usr/local/lib/python3.11/dist-packages (from torch>=2.0.0->accelerate) (12.4.127)\n",
            "Requirement already satisfied: nvidia-cudnn-cu12==9.1.0.70 in /usr/local/lib/python3.11/dist-packages (from torch>=2.0.0->accelerate) (9.1.0.70)\n",
            "Requirement already satisfied: nvidia-cublas-cu12==12.4.5.8 in /usr/local/lib/python3.11/dist-packages (from torch>=2.0.0->accelerate) (12.4.5.8)\n",
            "Requirement already satisfied: nvidia-cufft-cu12==11.2.1.3 in /usr/local/lib/python3.11/dist-packages (from torch>=2.0.0->accelerate) (11.2.1.3)\n",
            "Requirement already satisfied: nvidia-curand-cu12==10.3.5.147 in /usr/local/lib/python3.11/dist-packages (from torch>=2.0.0->accelerate) (10.3.5.147)\n",
            "Requirement already satisfied: nvidia-cusolver-cu12==11.6.1.9 in /usr/local/lib/python3.11/dist-packages (from torch>=2.0.0->accelerate) (11.6.1.9)\n",
            "Requirement already satisfied: nvidia-cusparse-cu12==12.3.1.170 in /usr/local/lib/python3.11/dist-packages (from torch>=2.0.0->accelerate) (12.3.1.170)\n",
            "Requirement already satisfied: nvidia-cusparselt-cu12==0.6.2 in /usr/local/lib/python3.11/dist-packages (from torch>=2.0.0->accelerate) (0.6.2)\n",
            "Requirement already satisfied: nvidia-nccl-cu12==2.21.5 in /usr/local/lib/python3.11/dist-packages (from torch>=2.0.0->accelerate) (2.21.5)\n",
            "Requirement already satisfied: nvidia-nvtx-cu12==12.4.127 in /usr/local/lib/python3.11/dist-packages (from torch>=2.0.0->accelerate) (12.4.127)\n",
            "Requirement already satisfied: nvidia-nvjitlink-cu12==12.4.127 in /usr/local/lib/python3.11/dist-packages (from torch>=2.0.0->accelerate) (12.4.127)\n",
            "Requirement already satisfied: triton==3.2.0 in /usr/local/lib/python3.11/dist-packages (from torch>=2.0.0->accelerate) (3.2.0)\n",
            "Requirement already satisfied: sympy==1.13.1 in /usr/local/lib/python3.11/dist-packages (from torch>=2.0.0->accelerate) (1.13.1)\n",
            "Requirement already satisfied: mpmath<1.4,>=1.1.0 in /usr/local/lib/python3.11/dist-packages (from sympy==1.13.1->torch>=2.0.0->accelerate) (1.3.0)\n",
            "Requirement already satisfied: charset-normalizer<4,>=2 in /usr/local/lib/python3.11/dist-packages (from requests->transformers) (3.4.2)\n",
            "Requirement already satisfied: idna<4,>=2.5 in /usr/local/lib/python3.11/dist-packages (from requests->transformers) (3.10)\n",
            "Requirement already satisfied: urllib3<3,>=1.21.1 in /usr/local/lib/python3.11/dist-packages (from requests->transformers) (2.4.0)\n",
            "Requirement already satisfied: certifi>=2017.4.17 in /usr/local/lib/python3.11/dist-packages (from requests->transformers) (2025.4.26)\n",
            "Requirement already satisfied: MarkupSafe>=2.0 in /usr/local/lib/python3.11/dist-packages (from jinja2->torch>=2.0.0->accelerate) (3.0.2)\n"
          ]
        },
        {
          "output_type": "stream",
          "name": "stderr",
          "text": [
            "Device set to use cpu\n",
            "Both `max_new_tokens` (=256) and `max_length`(=200) seem to have been set. `max_new_tokens` will take precedence. Please refer to the documentation for more information. (https://huggingface.co/docs/transformers/main/en/main_classes/text_generation)\n"
          ]
        },
        {
          "output_type": "stream",
          "name": "stdout",
          "text": [
            "Answer: Photosynthesis is the process of converting light energy into chemical energy for photosynthesis. Plants convert light energy into chemical energy for photosynthesis. Plants convert light energy into chemical energy for photosynthesis.\n"
          ]
        }
      ]
    },
    {
      "cell_type": "code",
      "source": [
        "# Prompt 1: Vague\n",
        "q1 = \"photosynthesis?\"\n",
        "\n",
        "# Prompt 2: Normal\n",
        "q2 = \"What is photosynthesis in plants?\"\n",
        "\n",
        "# Prompt 3: Detailed Prompt\n",
        "q3 = \"Explain the process of photosynthesis in plants in simple terms suitable for a 10-year-old.\"\n",
        "\n",
        "# Compare results\n",
        "print(\"Prompt 1:\", get_answer(q1))\n",
        "print(\"Prompt 2:\", get_answer(q2))\n",
        "print(\"Prompt 3:\", get_answer(q3))\n"
      ],
      "metadata": {
        "colab": {
          "base_uri": "https://localhost:8080/"
        },
        "id": "hC3MlwUGAMpM",
        "outputId": "88e5d168-24f2-4a6b-dcf8-0b7644dc379a"
      },
      "execution_count": 5,
      "outputs": [
        {
          "output_type": "stream",
          "name": "stderr",
          "text": [
            "Both `max_new_tokens` (=256) and `max_length`(=200) seem to have been set. `max_new_tokens` will take precedence. Please refer to the documentation for more information. (https://huggingface.co/docs/transformers/main/en/main_classes/text_generation)\n"
          ]
        },
        {
          "output_type": "stream",
          "name": "stdout",
          "text": [
            "Prompt 1: Photosynthesis is the process of converting chemical energy into chemical energy.\n"
          ]
        },
        {
          "output_type": "stream",
          "name": "stderr",
          "text": [
            "Both `max_new_tokens` (=256) and `max_length`(=200) seem to have been set. `max_new_tokens` will take precedence. Please refer to the documentation for more information. (https://huggingface.co/docs/transformers/main/en/main_classes/text_generation)\n"
          ]
        },
        {
          "output_type": "stream",
          "name": "stdout",
          "text": [
            "Prompt 2: cellular respiration\n"
          ]
        },
        {
          "output_type": "stream",
          "name": "stderr",
          "text": [
            "Both `max_new_tokens` (=256) and `max_length`(=200) seem to have been set. `max_new_tokens` will take precedence. Please refer to the documentation for more information. (https://huggingface.co/docs/transformers/main/en/main_classes/text_generation)\n"
          ]
        },
        {
          "output_type": "stream",
          "name": "stdout",
          "text": [
            "Prompt 3: Photosynthesis is the process by which a plant converts light energy into chemical energy. Light energy is converted into chemical energy by photosynthesis.\n"
          ]
        }
      ]
    },
    {
      "cell_type": "code",
      "source": [
        "questions = [\n",
        "    \"What are the causes of climate change?\",\n",
        "    \"Describe how the human brain processes language.\",\n",
        "    \"What is the role of artificial intelligence in modern education?\"\n",
        "]\n",
        "\n",
        "for q in questions:\n",
        "    print(f\"Q: {q}\")\n",
        "    print(\"A:\", get_answer(q))\n",
        "    print(\"-----\")\n"
      ],
      "metadata": {
        "colab": {
          "base_uri": "https://localhost:8080/"
        },
        "id": "kUSYxXWWAMkE",
        "outputId": "21b80a52-5716-4b2c-8acb-79bcc0b4e425"
      },
      "execution_count": 6,
      "outputs": [
        {
          "output_type": "stream",
          "name": "stdout",
          "text": [
            "Q: What are the causes of climate change?\n"
          ]
        },
        {
          "output_type": "stream",
          "name": "stderr",
          "text": [
            "Both `max_new_tokens` (=256) and `max_length`(=200) seem to have been set. `max_new_tokens` will take precedence. Please refer to the documentation for more information. (https://huggingface.co/docs/transformers/main/en/main_classes/text_generation)\n"
          ]
        },
        {
          "output_type": "stream",
          "name": "stdout",
          "text": [
            "A: greenhouse gases\n",
            "-----\n",
            "Q: Describe how the human brain processes language.\n"
          ]
        },
        {
          "output_type": "stream",
          "name": "stderr",
          "text": [
            "Both `max_new_tokens` (=256) and `max_length`(=200) seem to have been set. `max_new_tokens` will take precedence. Please refer to the documentation for more information. (https://huggingface.co/docs/transformers/main/en/main_classes/text_generation)\n"
          ]
        },
        {
          "output_type": "stream",
          "name": "stdout",
          "text": [
            "A: The limbic system is a part of the brain that processes language. The limbic system is a part of the brain that processes language. The limbic system is a part of the brain that processes language. The limbic system is a part of the brain that processes language. The limbic system is a part of the brain that processes language. The limbic system is a part of the brain that processes language. The limbic system is a part of the brain that processes language. The limbic system is a part of the brain that processes language. The limbic system is a part of the brain that processes language. The limbic system is a part of the brain that processes language. The limbic system is a part of the brain that processes language. The limbic system is a part of the brain that processes language. The limbic system is a part of the brain that processes language. The limbic system is a part of the brain that processes language. The limbic system is a part of the brain that processes language. The limbic system is a part of the brain that processes language. The limbic system is a part of the brain that processes language.\n",
            "-----\n",
            "Q: What is the role of artificial intelligence in modern education?\n"
          ]
        },
        {
          "output_type": "stream",
          "name": "stderr",
          "text": [
            "Both `max_new_tokens` (=256) and `max_length`(=200) seem to have been set. `max_new_tokens` will take precedence. Please refer to the documentation for more information. (https://huggingface.co/docs/transformers/main/en/main_classes/text_generation)\n"
          ]
        },
        {
          "output_type": "stream",
          "name": "stdout",
          "text": [
            "A: artificial intelligence is a key element of modern education\n",
            "-----\n"
          ]
        }
      ]
    },
    {
      "cell_type": "code",
      "source": [
        "questions = [\n",
        "    \"What are the causes of climate change?\",\n",
        "    \"Describe how the human brain processes language.\",\n",
        "    \"What is the role of artificial intelligence in modern education?\"\n",
        "]\n",
        "\n",
        "chatgpt_answers = [\n",
        "    \"The main causes of climate change are the burning of fossil fuels, deforestation, industrial activities, and agricultural practices. These release greenhouse gases like CO₂ and methane into the atmosphere, trapping heat and disrupting the Earth’s climate systems.\",\n",
        "\n",
        "    \"The human brain processes language primarily through regions like Broca’s area (speech production) and Wernicke’s area (language comprehension). When hearing or reading, the brain decodes sounds or symbols into meaning through neural pathways involving memory, prediction, and context.\",\n",
        "\n",
        "    \"AI in modern education helps personalize learning, automate administrative tasks, provide intelligent tutoring, and enhance accessibility. It can analyze student data to tailor instruction and improve educational outcomes.\"\n",
        "]\n",
        "\n",
        "gemini_answers = [\n",
        "    \"Climate change is primarily caused by human activities such as burning fossil fuels, deforestation, and industrial processes. These actions release large amounts of greenhouse gases into the atmosphere, leading to global warming.\",\n",
        "\n",
        "    \"Language processing in the brain involves several areas. The auditory or visual input is first processed, then interpreted in Wernicke's area, and if speech is required, signals are sent to Broca’s area for production.\",\n",
        "\n",
        "    \"AI plays a significant role in education by offering personalized learning experiences, automating grading, and supporting teachers with data-driven insights. It also enables the development of virtual tutors and adaptive learning platforms.\"\n",
        "]\n",
        "\n",
        "# Your model's answers using the get_answer function\n",
        "for i, q in enumerate(questions):\n",
        "    print(f\"Q{i+1}: {q}\\n\")\n",
        "\n",
        "    print(\" ChatGPT Answer:\")\n",
        "    print(chatgpt_answers[i])\n",
        "    print(\"\\n Gemini Answer:\")\n",
        "    print(gemini_answers[i])\n",
        "\n",
        "    print(\"\\n Your Model Answer:\")\n",
        "    print(get_answer(q))\n",
        "    print(\"-\" * 80)\n"
      ],
      "metadata": {
        "colab": {
          "base_uri": "https://localhost:8080/"
        },
        "id": "DRUZVrdNDi1U",
        "outputId": "5068f1dc-863a-44f7-bd4e-2318e65f83fa"
      },
      "execution_count": 8,
      "outputs": [
        {
          "output_type": "stream",
          "name": "stdout",
          "text": [
            "Q1: What are the causes of climate change?\n",
            "\n",
            " ChatGPT Answer:\n",
            "The main causes of climate change are the burning of fossil fuels, deforestation, industrial activities, and agricultural practices. These release greenhouse gases like CO₂ and methane into the atmosphere, trapping heat and disrupting the Earth’s climate systems.\n",
            "\n",
            " Gemini Answer:\n",
            "Climate change is primarily caused by human activities such as burning fossil fuels, deforestation, and industrial processes. These actions release large amounts of greenhouse gases into the atmosphere, leading to global warming.\n",
            "\n",
            " Your Model Answer:\n"
          ]
        },
        {
          "output_type": "stream",
          "name": "stderr",
          "text": [
            "Both `max_new_tokens` (=256) and `max_length`(=200) seem to have been set. `max_new_tokens` will take precedence. Please refer to the documentation for more information. (https://huggingface.co/docs/transformers/main/en/main_classes/text_generation)\n"
          ]
        },
        {
          "output_type": "stream",
          "name": "stdout",
          "text": [
            "global warming\n",
            "--------------------------------------------------------------------------------\n",
            "Q2: Describe how the human brain processes language.\n",
            "\n",
            " ChatGPT Answer:\n",
            "The human brain processes language primarily through regions like Broca’s area (speech production) and Wernicke’s area (language comprehension). When hearing or reading, the brain decodes sounds or symbols into meaning through neural pathways involving memory, prediction, and context.\n",
            "\n",
            " Gemini Answer:\n",
            "Language processing in the brain involves several areas. The auditory or visual input is first processed, then interpreted in Wernicke's area, and if speech is required, signals are sent to Broca’s area for production.\n",
            "\n",
            " Your Model Answer:\n"
          ]
        },
        {
          "output_type": "stream",
          "name": "stderr",
          "text": [
            "Both `max_new_tokens` (=256) and `max_length`(=200) seem to have been set. `max_new_tokens` will take precedence. Please refer to the documentation for more information. (https://huggingface.co/docs/transformers/main/en/main_classes/text_generation)\n"
          ]
        },
        {
          "output_type": "stream",
          "name": "stdout",
          "text": [
            "The human brain has a number of structures that process language. Each of these structures has a role to play in processing language.\n",
            "--------------------------------------------------------------------------------\n",
            "Q3: What is the role of artificial intelligence in modern education?\n",
            "\n",
            " ChatGPT Answer:\n",
            "AI in modern education helps personalize learning, automate administrative tasks, provide intelligent tutoring, and enhance accessibility. It can analyze student data to tailor instruction and improve educational outcomes.\n",
            "\n",
            " Gemini Answer:\n",
            "AI plays a significant role in education by offering personalized learning experiences, automating grading, and supporting teachers with data-driven insights. It also enables the development of virtual tutors and adaptive learning platforms.\n",
            "\n",
            " Your Model Answer:\n"
          ]
        },
        {
          "output_type": "stream",
          "name": "stderr",
          "text": [
            "Both `max_new_tokens` (=256) and `max_length`(=200) seem to have been set. `max_new_tokens` will take precedence. Please refer to the documentation for more information. (https://huggingface.co/docs/transformers/main/en/main_classes/text_generation)\n"
          ]
        },
        {
          "output_type": "stream",
          "name": "stdout",
          "text": [
            "artificial intelligence can be used to help teachers and students learn\n",
            "--------------------------------------------------------------------------------\n"
          ]
        }
      ]
    }
  ],
  "metadata": {
    "colab": {
      "provenance": []
    },
    "kernelspec": {
      "display_name": "Python 3",
      "name": "python3"
    },
    "language_info": {
      "name": "python"
    }
  },
  "nbformat": 4,
  "nbformat_minor": 0
}